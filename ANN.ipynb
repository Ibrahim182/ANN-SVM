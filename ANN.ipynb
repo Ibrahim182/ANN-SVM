{
 "cells": [
  {
   "cell_type": "code",
   "execution_count": 28,
   "metadata": {},
   "outputs": [],
   "source": [
    "import cv2 as cv\n",
    "import numpy as np\n",
    "import os\n",
    "import matplotlib.pyplot as plt\n",
    "from tensorflow.keras import layers, models"
   ]
  },
  {
   "cell_type": "markdown",
   "metadata": {},
   "source": [
    "### training information"
   ]
  },
  {
   "cell_type": "code",
   "execution_count": 29,
   "metadata": {},
   "outputs": [],
   "source": [
    "labels = [\"buildings\", \"forest\", \"mountain\", \"sea\"]\n",
    "training_images = np.zeros(shape=(10669, 32,32,3))\n",
    "training_labels = np.zeros(shape=(10669,1))\n",
    "idx = 0\n",
    "class_label = 0\n",
    "for label in labels:\n",
    "    curr_dir = os.path.join(os.path.sep,'training',label)\n",
    "    all_imgs = os.listdir(os.getcwd()+curr_dir)\n",
    "    for image in all_imgs:\n",
    "        im = cv.imread(f'training/{label}/{image}')\n",
    "        im = cv.cvtColor(im, cv.COLOR_BGR2RGB)\n",
    "        im = cv.resize(im, dsize=(32,32))\n",
    "        training_images[idx,:] = np.array(im)\n",
    "        training_labels[idx] = class_label\n",
    "        idx = idx + 1\n",
    "    class_label = class_label + 1"
   ]
  },
  {
   "cell_type": "code",
   "execution_count": 30,
   "metadata": {},
   "outputs": [
    {
     "data": {
      "text/plain": [
       "(10669, 32, 32, 3)"
      ]
     },
     "execution_count": 30,
     "metadata": {},
     "output_type": "execute_result"
    }
   ],
   "source": [
    "training_images.shape"
   ]
  },
  {
   "cell_type": "code",
   "execution_count": 31,
   "metadata": {},
   "outputs": [
    {
     "data": {
      "text/plain": [
       "(32, 32, 3)"
      ]
     },
     "execution_count": 31,
     "metadata": {},
     "output_type": "execute_result"
    }
   ],
   "source": [
    "training_images[0].shape"
   ]
  },
  {
   "cell_type": "markdown",
   "metadata": {},
   "source": [
    "### validation information"
   ]
  },
  {
   "cell_type": "code",
   "execution_count": 32,
   "metadata": {},
   "outputs": [],
   "source": [
    "labels = [\"buildings\", \"forest\",\"mountain\", \"sea\"]\n",
    "valid_images = np.zeros(shape=(1226, 32,32,3))\n",
    "valid_labels = np.zeros(shape=(1226,1))\n",
    "idx = 0\n",
    "class_label = 0\n",
    "for label in labels:\n",
    "    curr_dir = os.path.join(os.path.sep,'validation',label)\n",
    "    all_imgs = os.listdir(os.getcwd()+curr_dir)\n",
    "    for image in all_imgs:\n",
    "        im = cv.imread(f'validation/{label}/{image}')\n",
    "        im = cv.cvtColor(im, cv.COLOR_BGR2RGB)\n",
    "        im = cv.resize(im, dsize=(32,32))\n",
    "        valid_images[idx,:] = np.array(im)\n",
    "        valid_labels[idx] = class_label\n",
    "        idx = idx + 1\n",
    "    class_label = class_label + 1"
   ]
  },
  {
   "cell_type": "markdown",
   "metadata": {},
   "source": [
    "### testing information"
   ]
  },
  {
   "cell_type": "code",
   "execution_count": 33,
   "metadata": {},
   "outputs": [],
   "source": [
    "labels = [\"buildings\", \"forest\",\"mountain\", \"sea\"]\n",
    "testing_images = np.zeros(shape=(960, 32,32,3))\n",
    "testing_labels = np.zeros(shape=(960,1))\n",
    "idx = 0\n",
    "class_label = 0\n",
    "for label in labels:\n",
    "    curr_dir = os.path.join(os.path.sep,'testing',label)\n",
    "    all_imgs = os.listdir(os.getcwd()+curr_dir)\n",
    "    for image in all_imgs:\n",
    "        im = cv.imread(f'testing/{label}/{image}')\n",
    "        im = cv.cvtColor(im, cv.COLOR_BGR2RGB)\n",
    "        im = cv.resize(im, dsize=(32,32))\n",
    "        testing_images[idx,:] = np.array(im)\n",
    "        testing_labels[idx] = class_label\n",
    "        idx = idx + 1\n",
    "    class_label = class_label + 1"
   ]
  },
  {
   "cell_type": "code",
   "execution_count": 34,
   "metadata": {},
   "outputs": [],
   "source": [
    "model = models.Sequential()\n",
    "model.add(layers.Conv2D(32, (3, 3), activation='relu', input_shape=(32, 32, 3)))\n",
    "model.add(layers.MaxPooling2D((2, 2)))\n",
    "model.add(layers. Conv2D(64, (3, 3), activation='relu'))\n",
    "model.add(layers.MaxPooling2D((2, 2)))\n",
    "model.add(layers. Conv2D(64, (3, 3), activation='relu'))\n",
    "model.add(layers. Flatten())\n",
    "model.add(layers.Dense(64, activation='relu'))\n",
    "model.add(layers.Dense(4, activation='softmax'))\n"
   ]
  },
  {
   "cell_type": "code",
   "execution_count": 35,
   "metadata": {},
   "outputs": [],
   "source": [
    "\n",
    "model.compile(optimizer='adam', loss='sparse_categorical_crossentropy', metrics=['accuracy'])"
   ]
  },
  {
   "cell_type": "code",
   "execution_count": 36,
   "metadata": {},
   "outputs": [
    {
     "name": "stdout",
     "output_type": "stream",
     "text": [
      "Epoch 1/20\n",
      "334/334 [==============================] - 10s 29ms/step - loss: 1.5149 - accuracy: 0.6298 - val_loss: 0.6674 - val_accuracy: 0.7406\n",
      "Epoch 2/20\n",
      "334/334 [==============================] - 12s 35ms/step - loss: 0.6046 - accuracy: 0.7606 - val_loss: 0.5893 - val_accuracy: 0.7879\n",
      "Epoch 3/20\n",
      "334/334 [==============================] - 9s 27ms/step - loss: 0.5126 - accuracy: 0.7996 - val_loss: 0.5042 - val_accuracy: 0.8034\n",
      "Epoch 4/20\n",
      "334/334 [==============================] - 10s 29ms/step - loss: 0.4359 - accuracy: 0.8368 - val_loss: 0.4330 - val_accuracy: 0.8263\n",
      "Epoch 5/20\n",
      "334/334 [==============================] - 10s 31ms/step - loss: 0.3901 - accuracy: 0.8509 - val_loss: 0.3495 - val_accuracy: 0.8703\n",
      "Epoch 6/20\n",
      "334/334 [==============================] - 9s 28ms/step - loss: 0.3291 - accuracy: 0.8806 - val_loss: 0.5851 - val_accuracy: 0.7977\n",
      "Epoch 7/20\n",
      "334/334 [==============================] - 8s 23ms/step - loss: 0.2954 - accuracy: 0.8904 - val_loss: 0.3287 - val_accuracy: 0.8793\n",
      "Epoch 8/20\n",
      "334/334 [==============================] - 8s 23ms/step - loss: 0.2757 - accuracy: 0.8970 - val_loss: 0.4587 - val_accuracy: 0.8328\n",
      "Epoch 9/20\n",
      "334/334 [==============================] - 8s 24ms/step - loss: 0.2663 - accuracy: 0.8999 - val_loss: 0.3099 - val_accuracy: 0.8997\n",
      "Epoch 10/20\n",
      "334/334 [==============================] - 8s 24ms/step - loss: 0.2237 - accuracy: 0.9195 - val_loss: 0.2740 - val_accuracy: 0.9054\n",
      "Epoch 11/20\n",
      "334/334 [==============================] - 10s 29ms/step - loss: 0.2049 - accuracy: 0.9247 - val_loss: 0.2638 - val_accuracy: 0.9005\n",
      "Epoch 12/20\n",
      "334/334 [==============================] - 9s 27ms/step - loss: 0.1955 - accuracy: 0.9288 - val_loss: 0.2878 - val_accuracy: 0.8989\n",
      "Epoch 13/20\n",
      "334/334 [==============================] - 10s 31ms/step - loss: 0.1827 - accuracy: 0.9329 - val_loss: 0.3250 - val_accuracy: 0.9054\n",
      "Epoch 14/20\n",
      "334/334 [==============================] - 8s 24ms/step - loss: 0.1771 - accuracy: 0.9379 - val_loss: 0.4318 - val_accuracy: 0.8899\n",
      "Epoch 15/20\n",
      "334/334 [==============================] - 8s 23ms/step - loss: 0.1661 - accuracy: 0.9413 - val_loss: 0.4457 - val_accuracy: 0.8752\n",
      "Epoch 16/20\n",
      "334/334 [==============================] - 8s 25ms/step - loss: 0.1559 - accuracy: 0.9432 - val_loss: 0.3148 - val_accuracy: 0.9168\n",
      "Epoch 17/20\n",
      "334/334 [==============================] - 8s 25ms/step - loss: 0.1419 - accuracy: 0.9507 - val_loss: 0.3198 - val_accuracy: 0.9062\n",
      "Epoch 18/20\n",
      "334/334 [==============================] - 10s 29ms/step - loss: 0.1378 - accuracy: 0.9510 - val_loss: 0.3247 - val_accuracy: 0.9168\n",
      "Epoch 19/20\n",
      "334/334 [==============================] - 10s 29ms/step - loss: 0.1197 - accuracy: 0.9583 - val_loss: 0.3011 - val_accuracy: 0.9266\n",
      "Epoch 20/20\n",
      "334/334 [==============================] - 9s 28ms/step - loss: 0.1540 - accuracy: 0.9458 - val_loss: 0.2796 - val_accuracy: 0.9250\n"
     ]
    }
   ],
   "source": [
    "hist = model.fit(training_images, training_labels, epochs=20, validation_data=(valid_images, valid_labels))"
   ]
  },
  {
   "cell_type": "code",
   "execution_count": 37,
   "metadata": {},
   "outputs": [
    {
     "name": "stdout",
     "output_type": "stream",
     "text": [
      "30/30 [==============================] - 0s 11ms/step - loss: 0.2837 - accuracy: 0.9375\n",
      "Loss = 0.28366145491600037\n",
      "Accuracy = 93.75 %\n"
     ]
    }
   ],
   "source": [
    "loss, accuracy = model.evaluate(testing_images, testing_labels)\n",
    "print('Loss =', loss)\n",
    "print(f'Accuracy = {accuracy*100} %')"
   ]
  },
  {
   "cell_type": "code",
   "execution_count": 38,
   "metadata": {},
   "outputs": [
    {
     "name": "stdout",
     "output_type": "stream",
     "text": [
      "INFO:tensorflow:Assets written to: result.model\\assets\n"
     ]
    }
   ],
   "source": [
    "model.save('result.model')"
   ]
  },
  {
   "cell_type": "markdown",
   "metadata": {},
   "source": [
    "### visualization"
   ]
  },
  {
   "cell_type": "code",
   "execution_count": 48,
   "metadata": {},
   "outputs": [
    {
     "ename": "ValueError",
     "evalue": "Classification metrics can't handle a mix of multiclass and continuous-multioutput targets",
     "output_type": "error",
     "traceback": [
      "\u001b[1;31m---------------------------------------------------------------------------\u001b[0m",
      "\u001b[1;31mValueError\u001b[0m                                Traceback (most recent call last)",
      "\u001b[1;32m~\\AppData\\Local\\Temp/ipykernel_9296/4178256242.py\u001b[0m in \u001b[0;36m<module>\u001b[1;34m\u001b[0m\n\u001b[0;32m      1\u001b[0m \u001b[1;32mfrom\u001b[0m \u001b[0msklearn\u001b[0m\u001b[1;33m.\u001b[0m\u001b[0mmetrics\u001b[0m \u001b[1;32mimport\u001b[0m \u001b[0mplot_confusion_matrix\u001b[0m\u001b[1;33m,\u001b[0m\u001b[0mconfusion_matrix\u001b[0m\u001b[1;33m\u001b[0m\u001b[1;33m\u001b[0m\u001b[0m\n\u001b[0;32m      2\u001b[0m \u001b[0mpred\u001b[0m \u001b[1;33m=\u001b[0m \u001b[0mmodel\u001b[0m\u001b[1;33m.\u001b[0m\u001b[0mpredict\u001b[0m\u001b[1;33m(\u001b[0m\u001b[0mtesting_images\u001b[0m\u001b[1;33m)\u001b[0m\u001b[1;33m\u001b[0m\u001b[1;33m\u001b[0m\u001b[0m\n\u001b[1;32m----> 3\u001b[1;33m \u001b[0mcm\u001b[0m \u001b[1;33m=\u001b[0m \u001b[0mconfusion_matrix\u001b[0m\u001b[1;33m(\u001b[0m\u001b[0mtesting_labels\u001b[0m\u001b[1;33m,\u001b[0m\u001b[0mpred\u001b[0m\u001b[1;33m)\u001b[0m\u001b[1;33m\u001b[0m\u001b[1;33m\u001b[0m\u001b[0m\n\u001b[0m\u001b[0;32m      4\u001b[0m plot_confusion_matrix(conf_mat = cm,figsize=(8,7),class_names=['glacier', 'sea', 'forest', 'street', 'mountain', 'buildings'],\n\u001b[0;32m      5\u001b[0m                      show_normed = True);\n",
      "\u001b[1;32mC:\\MyAnaconda\\lib\\site-packages\\sklearn\\metrics\\_classification.py\u001b[0m in \u001b[0;36mconfusion_matrix\u001b[1;34m(y_true, y_pred, labels, sample_weight, normalize)\u001b[0m\n\u001b[0;32m    266\u001b[0m \u001b[1;33m\u001b[0m\u001b[0m\n\u001b[0;32m    267\u001b[0m     \"\"\"\n\u001b[1;32m--> 268\u001b[1;33m     \u001b[0my_type\u001b[0m\u001b[1;33m,\u001b[0m \u001b[0my_true\u001b[0m\u001b[1;33m,\u001b[0m \u001b[0my_pred\u001b[0m \u001b[1;33m=\u001b[0m \u001b[0m_check_targets\u001b[0m\u001b[1;33m(\u001b[0m\u001b[0my_true\u001b[0m\u001b[1;33m,\u001b[0m \u001b[0my_pred\u001b[0m\u001b[1;33m)\u001b[0m\u001b[1;33m\u001b[0m\u001b[1;33m\u001b[0m\u001b[0m\n\u001b[0m\u001b[0;32m    269\u001b[0m     \u001b[1;32mif\u001b[0m \u001b[0my_type\u001b[0m \u001b[1;32mnot\u001b[0m \u001b[1;32min\u001b[0m \u001b[1;33m(\u001b[0m\u001b[1;34m\"binary\"\u001b[0m\u001b[1;33m,\u001b[0m \u001b[1;34m\"multiclass\"\u001b[0m\u001b[1;33m)\u001b[0m\u001b[1;33m:\u001b[0m\u001b[1;33m\u001b[0m\u001b[1;33m\u001b[0m\u001b[0m\n\u001b[0;32m    270\u001b[0m         \u001b[1;32mraise\u001b[0m \u001b[0mValueError\u001b[0m\u001b[1;33m(\u001b[0m\u001b[1;34m\"%s is not supported\"\u001b[0m \u001b[1;33m%\u001b[0m \u001b[0my_type\u001b[0m\u001b[1;33m)\u001b[0m\u001b[1;33m\u001b[0m\u001b[1;33m\u001b[0m\u001b[0m\n",
      "\u001b[1;32mC:\\MyAnaconda\\lib\\site-packages\\sklearn\\metrics\\_classification.py\u001b[0m in \u001b[0;36m_check_targets\u001b[1;34m(y_true, y_pred)\u001b[0m\n\u001b[0;32m     88\u001b[0m     \u001b[1;32mif\u001b[0m \u001b[0mlen\u001b[0m\u001b[1;33m(\u001b[0m\u001b[0my_type\u001b[0m\u001b[1;33m)\u001b[0m \u001b[1;33m>\u001b[0m \u001b[1;36m1\u001b[0m\u001b[1;33m:\u001b[0m\u001b[1;33m\u001b[0m\u001b[1;33m\u001b[0m\u001b[0m\n\u001b[0;32m     89\u001b[0m         raise ValueError(\"Classification metrics can't handle a mix of {0} \"\n\u001b[1;32m---> 90\u001b[1;33m                          \"and {1} targets\".format(type_true, type_pred))\n\u001b[0m\u001b[0;32m     91\u001b[0m \u001b[1;33m\u001b[0m\u001b[0m\n\u001b[0;32m     92\u001b[0m     \u001b[1;31m# We can't have more than one value on y_type => The set is no more needed\u001b[0m\u001b[1;33m\u001b[0m\u001b[1;33m\u001b[0m\u001b[1;33m\u001b[0m\u001b[0m\n",
      "\u001b[1;31mValueError\u001b[0m: Classification metrics can't handle a mix of multiclass and continuous-multioutput targets"
     ]
    }
   ],
   "source": [
    "pred = model.predict(testing_images)\n",
    "cm = confusion_matrix(testing_labels,pred)\n",
    "plot_confusion_matrix(conf_mat = cm,figsize=(8,7),class_names=['glacier', 'sea', 'forest', 'street', 'mountain', 'buildings'],\n",
    "                     show_normed = True);"
   ]
  },
  {
   "cell_type": "code",
   "execution_count": 46,
   "metadata": {},
   "outputs": [
    {
     "data": {
      "image/png": "[encoded data removed]",
      "text/plain": [
       "<Figure size 864x432 with 2 Axes>"
      ]
     },
     "metadata": {},
     "output_type": "display_data"
    }
   ],
   "source": [
    "plt.figure(figsize=(12,6))\n",
    "plt.style.use(\"ggplot\")\n",
    "epochs = range(1,21)\n",
    "plt.subplot(1,2,1)\n",
    "plt.plot(epochs,hist.history[\"accuracy\"],\"go-\")\n",
    "plt.plot(epochs,hist.history[\"val_accuracy\"],\"ro-\")\n",
    "plt.title(\"Model Accuracy\")\n",
    "plt.xlabel(\"Epochs\")\n",
    "plt.ylabel(\"Accuracy\")\n",
    "plt.legend([\"Train\",\"val\"],loc=\"upper left\")\n",
    "\n",
    "plt.subplot(1,2,2)\n",
    "plt.plot(epochs,hist.history[\"loss\"],\"go-\")\n",
    "plt.plot(epochs,hist.history[\"val_loss\"],\"ro-\")\n",
    "plt.title(\"Model Loss\")\n",
    "plt.xlabel(\"Epochs\")\n",
    "plt.ylabel(\"Loss\")\n",
    "plt.legend([\"Train\",\"val\"],loc=\"upper right\")\n",
    "plt.show()"
   ]
  },
  {
   "cell_type": "code",
   "execution_count": null,
   "metadata": {},
   "outputs": [],
   "source": []
  }
 ],
 "metadata": {
  "interpreter": {
   "hash": "81e1a4065f0c0b20a6def9e6819d43d472afaadd723a36dedbc2eb50bcb24664"
  },
  "kernelspec": {
   "display_name": "Python 3.7.6 64-bit ('base': conda)",
   "language": "python",
   "name": "python3"
  },
  "language_info": {
   "codemirror_mode": {
    "name": "ipython",
    "version": 3
   },
   "file_extension": ".py",
   "mimetype": "text/x-python",
   "name": "python",
   "nbconvert_exporter": "python",
   "pygments_lexer": "ipython3",
   "version": "3.7.6"
  },
  "orig_nbformat": 4
 },
 "nbformat": 4,
 "nbformat_minor": 2
}
