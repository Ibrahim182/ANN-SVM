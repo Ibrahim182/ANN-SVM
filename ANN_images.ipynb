{
 "cells": [
  {
   "cell_type": "code",
   "execution_count": 1,
   "metadata": {},
   "outputs": [],
   "source": [
    "import cv2 as cv\n",
    "import numpy as np\n",
    "import os\n",
    "import matplotlib.pyplot as plt\n",
    "from tensorflow.keras import layers, models"
   ]
  },
  {
   "cell_type": "markdown",
   "metadata": {},
   "source": [
    "### training information"
   ]
  },
  {
   "cell_type": "code",
   "execution_count": 2,
   "metadata": {},
   "outputs": [],
   "source": [
    "labels = [\"buildings\", \"forest\", \"mountain\", \"sea\"]\n",
    "training_images = np.zeros(shape=(10669, 32,32,3))\n",
    "training_labels = np.zeros(shape=(10669,1))\n",
    "idx = 0\n",
    "class_label = 0\n",
    "for label in labels:\n",
    "    curr_dir = os.path.join(os.path.sep,'training',label)\n",
    "    all_imgs = os.listdir(os.getcwd()+curr_dir)\n",
    "    for image in all_imgs:\n",
    "        im = cv.imread(f'training/{label}/{image}')\n",
    "        im = cv.cvtColor(im, cv.COLOR_BGR2RGB)\n",
    "        im = cv.resize(im, dsize=(32,32))\n",
    "        training_images[idx,:] = np.array(im)\n",
    "        training_labels[idx] = class_label\n",
    "        idx = idx + 1\n",
    "    class_label = class_label + 1"
   ]
  },
  {
   "cell_type": "code",
   "execution_count": 3,
   "metadata": {},
   "outputs": [
    {
     "data": {
      "text/plain": [
       "(10669, 32, 32, 3)"
      ]
     },
     "execution_count": 3,
     "metadata": {},
     "output_type": "execute_result"
    }
   ],
   "source": [
    "training_images.shape"
   ]
  },
  {
   "cell_type": "code",
   "execution_count": 4,
   "metadata": {},
   "outputs": [
    {
     "data": {
      "text/plain": [
       "(32, 32, 3)"
      ]
     },
     "execution_count": 4,
     "metadata": {},
     "output_type": "execute_result"
    }
   ],
   "source": [
    "training_images[0].shape"
   ]
  },
  {
   "cell_type": "markdown",
   "metadata": {},
   "source": [
    "### validation information"
   ]
  },
  {
   "cell_type": "code",
   "execution_count": 5,
   "metadata": {},
   "outputs": [],
   "source": [
    "labels = [\"buildings\", \"forest\",\"mountain\", \"sea\"]\n",
    "valid_images = np.zeros(shape=(1226, 32,32,3))\n",
    "valid_labels = np.zeros(shape=(1226,1))\n",
    "idx = 0\n",
    "class_label = 0\n",
    "for label in labels:\n",
    "    curr_dir = os.path.join(os.path.sep,'validation',label)\n",
    "    all_imgs = os.listdir(os.getcwd()+curr_dir)\n",
    "    for image in all_imgs:\n",
    "        im = cv.imread(f'validation/{label}/{image}')\n",
    "        im = cv.cvtColor(im, cv.COLOR_BGR2RGB)\n",
    "        im = cv.resize(im, dsize=(32,32))\n",
    "        valid_images[idx,:] = np.array(im)\n",
    "        valid_labels[idx] = class_label\n",
    "        idx = idx + 1\n",
    "    class_label = class_label + 1"
   ]
  },
  {
   "cell_type": "markdown",
   "metadata": {},
   "source": [
    "### testing information"
   ]
  },
  {
   "cell_type": "code",
   "execution_count": 6,
   "metadata": {},
   "outputs": [],
   "source": [
    "labels = [\"buildings\", \"forest\",\"mountain\", \"sea\"]\n",
    "testing_images = np.zeros(shape=(960, 32,32,3))\n",
    "testing_labels = np.zeros(shape=(960,1))\n",
    "idx = 0\n",
    "class_label = 0\n",
    "for label in labels:\n",
    "    curr_dir = os.path.join(os.path.sep,'testing',label)\n",
    "    all_imgs = os.listdir(os.getcwd()+curr_dir)\n",
    "    for image in all_imgs:\n",
    "        im = cv.imread(f'testing/{label}/{image}')\n",
    "        im = cv.cvtColor(im, cv.COLOR_BGR2RGB)\n",
    "        im = cv.resize(im, dsize=(32,32))\n",
    "        testing_images[idx,:] = np.array(im)\n",
    "        testing_labels[idx] = class_label\n",
    "        idx = idx + 1\n",
    "    class_label = class_label + 1"
   ]
  },
  {
   "cell_type": "code",
   "execution_count": 7,
   "metadata": {},
   "outputs": [],
   "source": [
    "model = models.Sequential()\n",
    "model.add(layers.Conv2D(32, (3, 3), activation='relu', input_shape=(32, 32, 3)))\n",
    "model.add(layers.MaxPooling2D((2, 2)))\n",
    "model.add(layers. Conv2D(64, (3, 3), activation='relu'))\n",
    "model.add(layers.MaxPooling2D((2, 2)))\n",
    "model.add(layers. Conv2D(64, (3, 3), activation='relu'))\n",
    "model.add(layers. Flatten())\n",
    "model.add(layers.Dense(64, activation='relu'))\n",
    "model.add(layers.Dense(4, activation='softmax'))\n"
   ]
  },
  {
   "cell_type": "code",
   "execution_count": 8,
   "metadata": {},
   "outputs": [],
   "source": [
    "\n",
    "model.compile(optimizer='adam', loss='sparse_categorical_crossentropy', metrics=['accuracy'])"
   ]
  },
  {
   "cell_type": "code",
   "execution_count": 9,
   "metadata": {},
   "outputs": [
    {
     "name": "stdout",
     "output_type": "stream",
     "text": [
      "Epoch 1/20\n",
      "334/334 [==============================] - 9s 27ms/step - loss: 1.4387 - accuracy: 0.5749 - val_loss: 0.6964 - val_accuracy: 0.7178\n",
      "Epoch 2/20\n",
      "334/334 [==============================] - 12s 37ms/step - loss: 0.6932 - accuracy: 0.7175 - val_loss: 0.6192 - val_accuracy: 0.7635\n",
      "Epoch 3/20\n",
      "334/334 [==============================] - 12s 36ms/step - loss: 0.5599 - accuracy: 0.7804 - val_loss: 0.6186 - val_accuracy: 0.7569\n",
      "Epoch 4/20\n",
      "334/334 [==============================] - 11s 33ms/step - loss: 0.4996 - accuracy: 0.8069 - val_loss: 0.4591 - val_accuracy: 0.8254\n",
      "Epoch 5/20\n",
      "334/334 [==============================] - 11s 32ms/step - loss: 0.4505 - accuracy: 0.8261 - val_loss: 0.4085 - val_accuracy: 0.8409\n",
      "Epoch 6/20\n",
      "334/334 [==============================] - 11s 34ms/step - loss: 0.4190 - accuracy: 0.8415 - val_loss: 0.3979 - val_accuracy: 0.8573\n",
      "Epoch 7/20\n",
      "334/334 [==============================] - 10s 30ms/step - loss: 0.3763 - accuracy: 0.8584 - val_loss: 0.3411 - val_accuracy: 0.8679\n",
      "Epoch 8/20\n",
      "334/334 [==============================] - 10s 30ms/step - loss: 0.3499 - accuracy: 0.8677 - val_loss: 0.3274 - val_accuracy: 0.8874\n",
      "Epoch 9/20\n",
      "334/334 [==============================] - 10s 30ms/step - loss: 0.3255 - accuracy: 0.8768 - val_loss: 0.3509 - val_accuracy: 0.8752\n",
      "Epoch 10/20\n",
      "334/334 [==============================] - 9s 28ms/step - loss: 0.2904 - accuracy: 0.8913 - val_loss: 0.3086 - val_accuracy: 0.8834\n",
      "Epoch 11/20\n",
      "334/334 [==============================] - 9s 26ms/step - loss: 0.2802 - accuracy: 0.8968 - val_loss: 0.3089 - val_accuracy: 0.8842\n",
      "Epoch 12/20\n",
      "334/334 [==============================] - 10s 30ms/step - loss: 0.2476 - accuracy: 0.9051 - val_loss: 0.2739 - val_accuracy: 0.9005\n",
      "Epoch 13/20\n",
      "334/334 [==============================] - 10s 30ms/step - loss: 0.2470 - accuracy: 0.9109 - val_loss: 0.3379 - val_accuracy: 0.8801\n",
      "Epoch 14/20\n",
      "334/334 [==============================] - 11s 33ms/step - loss: 0.2206 - accuracy: 0.9190 - val_loss: 0.3752 - val_accuracy: 0.8874\n",
      "Epoch 15/20\n",
      "334/334 [==============================] - 13s 38ms/step - loss: 0.1992 - accuracy: 0.9283 - val_loss: 0.2656 - val_accuracy: 0.9062\n",
      "Epoch 16/20\n",
      "334/334 [==============================] - 10s 31ms/step - loss: 0.1958 - accuracy: 0.9306 - val_loss: 0.3502 - val_accuracy: 0.9095\n",
      "Epoch 17/20\n",
      "334/334 [==============================] - 12s 35ms/step - loss: 0.1780 - accuracy: 0.9356 - val_loss: 0.3254 - val_accuracy: 0.8940\n",
      "Epoch 18/20\n",
      "334/334 [==============================] - 10s 30ms/step - loss: 0.1615 - accuracy: 0.9424 - val_loss: 0.3366 - val_accuracy: 0.8923\n",
      "Epoch 19/20\n",
      "334/334 [==============================] - 9s 28ms/step - loss: 0.1513 - accuracy: 0.9446 - val_loss: 0.3851 - val_accuracy: 0.8801\n",
      "Epoch 20/20\n",
      "334/334 [==============================] - 8s 25ms/step - loss: 0.1626 - accuracy: 0.9429 - val_loss: 0.3152 - val_accuracy: 0.9168\n"
     ]
    }
   ],
   "source": [
    "hist = model.fit(training_images, training_labels, epochs=20, validation_data=(valid_images, valid_labels))"
   ]
  },
  {
   "cell_type": "code",
   "execution_count": 10,
   "metadata": {},
   "outputs": [
    {
     "name": "stdout",
     "output_type": "stream",
     "text": [
      "30/30 [==============================] - 0s 6ms/step - loss: 0.2656 - accuracy: 0.9323\n",
      "Loss = 0.2655697762966156\n",
      "Accuracy = 93.22916865348816 %\n"
     ]
    }
   ],
   "source": [
    "loss, accuracy = model.evaluate(testing_images, testing_labels)\n",
    "print('Loss =', loss)\n",
    "print(f'Accuracy = {accuracy*100} %')"
   ]
  },
  {
   "cell_type": "code",
   "execution_count": 11,
   "metadata": {},
   "outputs": [
    {
     "name": "stdout",
     "output_type": "stream",
     "text": [
      "INFO:tensorflow:Assets written to: result.model\\assets\n"
     ]
    }
   ],
   "source": [
    "model.save('result.model')"
   ]
  },
  {
   "cell_type": "markdown",
   "metadata": {},
   "source": [
    "### visualization"
   ]
  },
  {
   "cell_type": "code",
   "execution_count": 12,
   "metadata": {},
   "outputs": [
    {
     "data": {
      "image/png": "[encoded data removed]",
      "text/plain": [
       "<Figure size 864x432 with 2 Axes>"
      ]
     },
     "metadata": {
      "needs_background": "light"
     },
     "output_type": "display_data"
    }
   ],
   "source": [
    "plt.figure(figsize=(12,6))\n",
    "plt.style.use(\"ggplot\")\n",
    "epochs = range(1,21)\n",
    "plt.subplot(1,2,1)\n",
    "plt.plot(epochs,hist.history[\"accuracy\"],\"go-\")\n",
    "plt.plot(epochs,hist.history[\"val_accuracy\"],\"ro-\")\n",
    "plt.title(\"Model Accuracy\")\n",
    "plt.xlabel(\"Epochs\")\n",
    "plt.ylabel(\"Accuracy\")\n",
    "plt.legend([\"Train\",\"val\"],loc=\"upper left\")\n",
    "\n",
    "plt.subplot(1,2,2)\n",
    "plt.plot(epochs,hist.history[\"loss\"],\"go-\")\n",
    "plt.plot(epochs,hist.history[\"val_loss\"],\"ro-\")\n",
    "plt.title(\"Model Loss\")\n",
    "plt.xlabel(\"Epochs\")\n",
    "plt.ylabel(\"Loss\")\n",
    "plt.legend([\"Train\",\"val\"],loc=\"upper right\")\n",
    "plt.show()"
   ]
  },
  {
   "cell_type": "code",
   "execution_count": null,
   "metadata": {},
   "outputs": [],
   "source": []
  }
 ],
 "metadata": {
  "interpreter": {
   "hash": "81e1a4065f0c0b20a6def9e6819d43d472afaadd723a36dedbc2eb50bcb24664"
  },
  "kernelspec": {
   "display_name": "Python 3.7.6 64-bit ('base': conda)",
   "language": "python",
   "name": "python3"
  },
  "language_info": {
   "codemirror_mode": {
    "name": "ipython",
    "version": 3
   },
   "file_extension": ".py",
   "mimetype": "text/x-python",
   "name": "python",
   "nbconvert_exporter": "python",
   "pygments_lexer": "ipython3",
   "version": "3.7.6"
  },
  "orig_nbformat": 4
 },
 "nbformat": 4,
 "nbformat_minor": 2
}
