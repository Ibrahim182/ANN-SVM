{
 "cells": [
  {
   "cell_type": "code",
   "execution_count": 34,
   "metadata": {},
   "outputs": [],
   "source": [
    "import pandas as pd\n",
    "\n",
    "import numpy as np \n",
    "\n",
    "import matplotlib.pyplot as plt\n",
    "\n",
    "from IPython.display import display, Image\n",
    "\n",
    "from sklearn.preprocessing import StandardScaler\n",
    "\n",
    "scaler = StandardScaler()  # creating instance of StandardScaler\n",
    "\n",
    "\n",
    "\n",
    "from sklearn.model_selection import train_test_split\n",
    "\n",
    "from keras.models import Sequential\n",
    "\n",
    "from sklearn.metrics import confusion_matrix,accuracy_score,precision_score,recall_score\n",
    "\n",
    "from sklearn.model_selection import train_test_split\n",
    "\n",
    "from sklearn.svm import SVC"
   ]
  },
  {
   "cell_type": "code",
   "execution_count": 35,
   "metadata": {},
   "outputs": [],
   "source": [
    "data = pd.read_csv('diabetes.csv')"
   ]
  },
  {
   "cell_type": "code",
   "execution_count": 36,
   "metadata": {},
   "outputs": [
    {
     "data": {
      "text/plain": [
       "(768, 9)"
      ]
     },
     "execution_count": 36,
     "metadata": {},
     "output_type": "execute_result"
    }
   ],
   "source": [
    "data.shape"
   ]
  },
  {
   "cell_type": "code",
   "execution_count": 37,
   "metadata": {},
   "outputs": [
    {
     "data": {
      "text/html": [
       "<div>\n",
       "<style scoped>\n",
       "    .dataframe tbody tr th:only-of-type {\n",
       "        vertical-align: middle;\n",
       "    }\n",
       "\n",
       "    .dataframe tbody tr th {\n",
       "        vertical-align: top;\n",
       "    }\n",
       "\n",
       "    .dataframe thead th {\n",
       "        text-align: right;\n",
       "    }\n",
       "</style>\n",
       "<table border=\"1\" class=\"dataframe\">\n",
       "  <thead>\n",
       "    <tr style=\"text-align: right;\">\n",
       "      <th></th>\n",
       "      <th>Pregnancies</th>\n",
       "      <th>Glucose</th>\n",
       "      <th>BloodPressure</th>\n",
       "      <th>SkinThickness</th>\n",
       "      <th>Insulin</th>\n",
       "      <th>BMI</th>\n",
       "      <th>DiabetesPedigreeFunction</th>\n",
       "      <th>Age</th>\n",
       "      <th>Outcome</th>\n",
       "    </tr>\n",
       "  </thead>\n",
       "  <tbody>\n",
       "    <tr>\n",
       "      <th>0</th>\n",
       "      <td>6</td>\n",
       "      <td>148</td>\n",
       "      <td>72</td>\n",
       "      <td>35</td>\n",
       "      <td>0</td>\n",
       "      <td>33.6</td>\n",
       "      <td>0.627</td>\n",
       "      <td>50</td>\n",
       "      <td>1</td>\n",
       "    </tr>\n",
       "    <tr>\n",
       "      <th>1</th>\n",
       "      <td>1</td>\n",
       "      <td>85</td>\n",
       "      <td>66</td>\n",
       "      <td>29</td>\n",
       "      <td>0</td>\n",
       "      <td>26.6</td>\n",
       "      <td>0.351</td>\n",
       "      <td>31</td>\n",
       "      <td>0</td>\n",
       "    </tr>\n",
       "    <tr>\n",
       "      <th>2</th>\n",
       "      <td>8</td>\n",
       "      <td>183</td>\n",
       "      <td>64</td>\n",
       "      <td>0</td>\n",
       "      <td>0</td>\n",
       "      <td>23.3</td>\n",
       "      <td>0.672</td>\n",
       "      <td>32</td>\n",
       "      <td>1</td>\n",
       "    </tr>\n",
       "    <tr>\n",
       "      <th>3</th>\n",
       "      <td>1</td>\n",
       "      <td>89</td>\n",
       "      <td>66</td>\n",
       "      <td>23</td>\n",
       "      <td>94</td>\n",
       "      <td>28.1</td>\n",
       "      <td>0.167</td>\n",
       "      <td>21</td>\n",
       "      <td>0</td>\n",
       "    </tr>\n",
       "    <tr>\n",
       "      <th>4</th>\n",
       "      <td>0</td>\n",
       "      <td>137</td>\n",
       "      <td>40</td>\n",
       "      <td>35</td>\n",
       "      <td>168</td>\n",
       "      <td>43.1</td>\n",
       "      <td>2.288</td>\n",
       "      <td>33</td>\n",
       "      <td>1</td>\n",
       "    </tr>\n",
       "  </tbody>\n",
       "</table>\n",
       "</div>"
      ],
      "text/plain": [
       "   Pregnancies  Glucose  BloodPressure  SkinThickness  Insulin   BMI  \\\n",
       "0            6      148             72             35        0  33.6   \n",
       "1            1       85             66             29        0  26.6   \n",
       "2            8      183             64              0        0  23.3   \n",
       "3            1       89             66             23       94  28.1   \n",
       "4            0      137             40             35      168  43.1   \n",
       "\n",
       "   DiabetesPedigreeFunction  Age  Outcome  \n",
       "0                     0.627   50        1  \n",
       "1                     0.351   31        0  \n",
       "2                     0.672   32        1  \n",
       "3                     0.167   21        0  \n",
       "4                     2.288   33        1  "
      ]
     },
     "execution_count": 37,
     "metadata": {},
     "output_type": "execute_result"
    }
   ],
   "source": [
    "data.head()"
   ]
  },
  {
   "cell_type": "code",
   "execution_count": 38,
   "metadata": {},
   "outputs": [
    {
     "data": {
      "text/html": [
       "<div>\n",
       "<style scoped>\n",
       "    .dataframe tbody tr th:only-of-type {\n",
       "        vertical-align: middle;\n",
       "    }\n",
       "\n",
       "    .dataframe tbody tr th {\n",
       "        vertical-align: top;\n",
       "    }\n",
       "\n",
       "    .dataframe thead th {\n",
       "        text-align: right;\n",
       "    }\n",
       "</style>\n",
       "<table border=\"1\" class=\"dataframe\">\n",
       "  <thead>\n",
       "    <tr style=\"text-align: right;\">\n",
       "      <th></th>\n",
       "      <th>Pregnancies</th>\n",
       "      <th>Glucose</th>\n",
       "      <th>BloodPressure</th>\n",
       "      <th>SkinThickness</th>\n",
       "      <th>Insulin</th>\n",
       "      <th>BMI</th>\n",
       "      <th>DiabetesPedigreeFunction</th>\n",
       "      <th>Age</th>\n",
       "      <th>Outcome</th>\n",
       "    </tr>\n",
       "  </thead>\n",
       "  <tbody>\n",
       "    <tr>\n",
       "      <th>763</th>\n",
       "      <td>10</td>\n",
       "      <td>101</td>\n",
       "      <td>76</td>\n",
       "      <td>48</td>\n",
       "      <td>180</td>\n",
       "      <td>32.9</td>\n",
       "      <td>0.171</td>\n",
       "      <td>63</td>\n",
       "      <td>0</td>\n",
       "    </tr>\n",
       "    <tr>\n",
       "      <th>764</th>\n",
       "      <td>2</td>\n",
       "      <td>122</td>\n",
       "      <td>70</td>\n",
       "      <td>27</td>\n",
       "      <td>0</td>\n",
       "      <td>36.8</td>\n",
       "      <td>0.340</td>\n",
       "      <td>27</td>\n",
       "      <td>0</td>\n",
       "    </tr>\n",
       "    <tr>\n",
       "      <th>765</th>\n",
       "      <td>5</td>\n",
       "      <td>121</td>\n",
       "      <td>72</td>\n",
       "      <td>23</td>\n",
       "      <td>112</td>\n",
       "      <td>26.2</td>\n",
       "      <td>0.245</td>\n",
       "      <td>30</td>\n",
       "      <td>0</td>\n",
       "    </tr>\n",
       "    <tr>\n",
       "      <th>766</th>\n",
       "      <td>1</td>\n",
       "      <td>126</td>\n",
       "      <td>60</td>\n",
       "      <td>0</td>\n",
       "      <td>0</td>\n",
       "      <td>30.1</td>\n",
       "      <td>0.349</td>\n",
       "      <td>47</td>\n",
       "      <td>1</td>\n",
       "    </tr>\n",
       "    <tr>\n",
       "      <th>767</th>\n",
       "      <td>1</td>\n",
       "      <td>93</td>\n",
       "      <td>70</td>\n",
       "      <td>31</td>\n",
       "      <td>0</td>\n",
       "      <td>30.4</td>\n",
       "      <td>0.315</td>\n",
       "      <td>23</td>\n",
       "      <td>0</td>\n",
       "    </tr>\n",
       "  </tbody>\n",
       "</table>\n",
       "</div>"
      ],
      "text/plain": [
       "     Pregnancies  Glucose  BloodPressure  SkinThickness  Insulin   BMI  \\\n",
       "763           10      101             76             48      180  32.9   \n",
       "764            2      122             70             27        0  36.8   \n",
       "765            5      121             72             23      112  26.2   \n",
       "766            1      126             60              0        0  30.1   \n",
       "767            1       93             70             31        0  30.4   \n",
       "\n",
       "     DiabetesPedigreeFunction  Age  Outcome  \n",
       "763                     0.171   63        0  \n",
       "764                     0.340   27        0  \n",
       "765                     0.245   30        0  \n",
       "766                     0.349   47        1  \n",
       "767                     0.315   23        0  "
      ]
     },
     "execution_count": 38,
     "metadata": {},
     "output_type": "execute_result"
    }
   ],
   "source": [
    "data.tail()"
   ]
  },
  {
   "cell_type": "code",
   "execution_count": 39,
   "metadata": {},
   "outputs": [
    {
     "name": "stdout",
     "output_type": "stream",
     "text": [
      "<class 'pandas.core.frame.DataFrame'>\n",
      "RangeIndex: 768 entries, 0 to 767\n",
      "Data columns (total 9 columns):\n",
      "Pregnancies                 768 non-null int64\n",
      "Glucose                     768 non-null int64\n",
      "BloodPressure               768 non-null int64\n",
      "SkinThickness               768 non-null int64\n",
      "Insulin                     768 non-null int64\n",
      "BMI                         768 non-null float64\n",
      "DiabetesPedigreeFunction    768 non-null float64\n",
      "Age                         768 non-null int64\n",
      "Outcome                     768 non-null int64\n",
      "dtypes: float64(2), int64(7)\n",
      "memory usage: 54.1 KB\n"
     ]
    }
   ],
   "source": [
    "data.info()"
   ]
  },
  {
   "cell_type": "code",
   "execution_count": 40,
   "metadata": {},
   "outputs": [
    {
     "data": {
      "text/plain": [
       "Pregnancies                 0\n",
       "Glucose                     0\n",
       "BloodPressure               0\n",
       "SkinThickness               0\n",
       "Insulin                     0\n",
       "BMI                         0\n",
       "DiabetesPedigreeFunction    0\n",
       "Age                         0\n",
       "Outcome                     0\n",
       "dtype: int64"
      ]
     },
     "execution_count": 40,
     "metadata": {},
     "output_type": "execute_result"
    }
   ],
   "source": [
    "data.isnull().sum()"
   ]
  },
  {
   "cell_type": "markdown",
   "metadata": {},
   "source": [
    "### handling outlayers "
   ]
  },
  {
   "cell_type": "code",
   "execution_count": 41,
   "metadata": {},
   "outputs": [
    {
     "data": {
      "text/html": [
       "<div>\n",
       "<style scoped>\n",
       "    .dataframe tbody tr th:only-of-type {\n",
       "        vertical-align: middle;\n",
       "    }\n",
       "\n",
       "    .dataframe tbody tr th {\n",
       "        vertical-align: top;\n",
       "    }\n",
       "\n",
       "    .dataframe thead th {\n",
       "        text-align: right;\n",
       "    }\n",
       "</style>\n",
       "<table border=\"1\" class=\"dataframe\">\n",
       "  <thead>\n",
       "    <tr style=\"text-align: right;\">\n",
       "      <th></th>\n",
       "      <th>Pregnancies</th>\n",
       "      <th>Glucose</th>\n",
       "      <th>BloodPressure</th>\n",
       "      <th>SkinThickness</th>\n",
       "      <th>Insulin</th>\n",
       "      <th>BMI</th>\n",
       "      <th>DiabetesPedigreeFunction</th>\n",
       "      <th>Age</th>\n",
       "      <th>Outcome</th>\n",
       "    </tr>\n",
       "  </thead>\n",
       "  <tbody>\n",
       "    <tr>\n",
       "      <th>count</th>\n",
       "      <td>768.000000</td>\n",
       "      <td>768.000000</td>\n",
       "      <td>768.000000</td>\n",
       "      <td>768.000000</td>\n",
       "      <td>768.000000</td>\n",
       "      <td>768.000000</td>\n",
       "      <td>768.000000</td>\n",
       "      <td>768.000000</td>\n",
       "      <td>768.000000</td>\n",
       "    </tr>\n",
       "    <tr>\n",
       "      <th>mean</th>\n",
       "      <td>3.845052</td>\n",
       "      <td>120.894531</td>\n",
       "      <td>69.105469</td>\n",
       "      <td>20.536458</td>\n",
       "      <td>79.799479</td>\n",
       "      <td>31.992578</td>\n",
       "      <td>0.471876</td>\n",
       "      <td>33.240885</td>\n",
       "      <td>0.348958</td>\n",
       "    </tr>\n",
       "    <tr>\n",
       "      <th>std</th>\n",
       "      <td>3.369578</td>\n",
       "      <td>31.972618</td>\n",
       "      <td>19.355807</td>\n",
       "      <td>15.952218</td>\n",
       "      <td>115.244002</td>\n",
       "      <td>7.884160</td>\n",
       "      <td>0.331329</td>\n",
       "      <td>11.760232</td>\n",
       "      <td>0.476951</td>\n",
       "    </tr>\n",
       "    <tr>\n",
       "      <th>min</th>\n",
       "      <td>0.000000</td>\n",
       "      <td>0.000000</td>\n",
       "      <td>0.000000</td>\n",
       "      <td>0.000000</td>\n",
       "      <td>0.000000</td>\n",
       "      <td>0.000000</td>\n",
       "      <td>0.078000</td>\n",
       "      <td>21.000000</td>\n",
       "      <td>0.000000</td>\n",
       "    </tr>\n",
       "    <tr>\n",
       "      <th>25%</th>\n",
       "      <td>1.000000</td>\n",
       "      <td>99.000000</td>\n",
       "      <td>62.000000</td>\n",
       "      <td>0.000000</td>\n",
       "      <td>0.000000</td>\n",
       "      <td>27.300000</td>\n",
       "      <td>0.243750</td>\n",
       "      <td>24.000000</td>\n",
       "      <td>0.000000</td>\n",
       "    </tr>\n",
       "    <tr>\n",
       "      <th>50%</th>\n",
       "      <td>3.000000</td>\n",
       "      <td>117.000000</td>\n",
       "      <td>72.000000</td>\n",
       "      <td>23.000000</td>\n",
       "      <td>30.500000</td>\n",
       "      <td>32.000000</td>\n",
       "      <td>0.372500</td>\n",
       "      <td>29.000000</td>\n",
       "      <td>0.000000</td>\n",
       "    </tr>\n",
       "    <tr>\n",
       "      <th>75%</th>\n",
       "      <td>6.000000</td>\n",
       "      <td>140.250000</td>\n",
       "      <td>80.000000</td>\n",
       "      <td>32.000000</td>\n",
       "      <td>127.250000</td>\n",
       "      <td>36.600000</td>\n",
       "      <td>0.626250</td>\n",
       "      <td>41.000000</td>\n",
       "      <td>1.000000</td>\n",
       "    </tr>\n",
       "    <tr>\n",
       "      <th>max</th>\n",
       "      <td>17.000000</td>\n",
       "      <td>199.000000</td>\n",
       "      <td>122.000000</td>\n",
       "      <td>99.000000</td>\n",
       "      <td>846.000000</td>\n",
       "      <td>67.100000</td>\n",
       "      <td>2.420000</td>\n",
       "      <td>81.000000</td>\n",
       "      <td>1.000000</td>\n",
       "    </tr>\n",
       "  </tbody>\n",
       "</table>\n",
       "</div>"
      ],
      "text/plain": [
       "       Pregnancies     Glucose  BloodPressure  SkinThickness     Insulin  \\\n",
       "count   768.000000  768.000000     768.000000     768.000000  768.000000   \n",
       "mean      3.845052  120.894531      69.105469      20.536458   79.799479   \n",
       "std       3.369578   31.972618      19.355807      15.952218  115.244002   \n",
       "min       0.000000    0.000000       0.000000       0.000000    0.000000   \n",
       "25%       1.000000   99.000000      62.000000       0.000000    0.000000   \n",
       "50%       3.000000  117.000000      72.000000      23.000000   30.500000   \n",
       "75%       6.000000  140.250000      80.000000      32.000000  127.250000   \n",
       "max      17.000000  199.000000     122.000000      99.000000  846.000000   \n",
       "\n",
       "              BMI  DiabetesPedigreeFunction         Age     Outcome  \n",
       "count  768.000000                768.000000  768.000000  768.000000  \n",
       "mean    31.992578                  0.471876   33.240885    0.348958  \n",
       "std      7.884160                  0.331329   11.760232    0.476951  \n",
       "min      0.000000                  0.078000   21.000000    0.000000  \n",
       "25%     27.300000                  0.243750   24.000000    0.000000  \n",
       "50%     32.000000                  0.372500   29.000000    0.000000  \n",
       "75%     36.600000                  0.626250   41.000000    1.000000  \n",
       "max     67.100000                  2.420000   81.000000    1.000000  "
      ]
     },
     "execution_count": 41,
     "metadata": {},
     "output_type": "execute_result"
    }
   ],
   "source": [
    "data.describe()"
   ]
  },
  {
   "cell_type": "code",
   "execution_count": 42,
   "metadata": {},
   "outputs": [
    {
     "data": {
      "text/plain": [
       "Pregnancies                   5.0000\n",
       "Glucose                      41.2500\n",
       "BloodPressure                18.0000\n",
       "SkinThickness                32.0000\n",
       "Insulin                     127.2500\n",
       "BMI                           9.3000\n",
       "DiabetesPedigreeFunction      0.3825\n",
       "Age                          17.0000\n",
       "Outcome                       1.0000\n",
       "dtype: float64"
      ]
     },
     "execution_count": 42,
     "metadata": {},
     "output_type": "execute_result"
    }
   ],
   "source": [
    "Q1 = data.quantile(0.25)\n",
    "Q3 = data.quantile(0.75)\n",
    "IQR = Q3 - Q1\n",
    "IQR"
   ]
  },
  {
   "cell_type": "code",
   "execution_count": 43,
   "metadata": {},
   "outputs": [
    {
     "data": {
      "text/plain": [
       "Pregnancies                  4\n",
       "Glucose                      5\n",
       "BloodPressure               45\n",
       "SkinThickness                1\n",
       "Insulin                     34\n",
       "BMI                         19\n",
       "DiabetesPedigreeFunction    29\n",
       "Age                          9\n",
       "Outcome                      0\n",
       "dtype: int64"
      ]
     },
     "execution_count": 43,
     "metadata": {},
     "output_type": "execute_result"
    }
   ],
   "source": [
    "# this mean that any thing less then mini and greater then max print it \n",
    "((data < (Q1 - 1.5 * IQR))  | (data > (Q3 + 1.5 * IQR))).sum()"
   ]
  },
  {
   "cell_type": "code",
   "execution_count": 44,
   "metadata": {},
   "outputs": [
    {
     "data": {
      "image/png": "[encoded data removed]",
      "text/plain": [
       "<IPython.core.display.Image object>"
      ]
     },
     "metadata": {},
     "output_type": "display_data"
    }
   ],
   "source": [
    "display(Image(filename='data with outlayers.png'))"
   ]
  },
  {
   "cell_type": "code",
   "execution_count": 45,
   "metadata": {},
   "outputs": [
    {
     "data": {
      "image/png": "[encoded data removed]",
      "text/plain": [
       "<Figure size 1224x864 with 9 Axes>"
      ]
     },
     "metadata": {
      "needs_background": "light"
     },
     "output_type": "display_data"
    }
   ],
   "source": [
    "data.hist(figsize=(17,12),color='blue') \n",
    "plt.show()"
   ]
  },
  {
   "cell_type": "code",
   "execution_count": 46,
   "metadata": {},
   "outputs": [],
   "source": [
    "names = ['Pregnancies','Glucose','BloodPressure','SkinThickness','Insulin'\n",
    "         ,'BMI','DiabetesPedigreeFunction','Age','Outcome']"
   ]
  },
  {
   "cell_type": "code",
   "execution_count": 47,
   "metadata": {},
   "outputs": [],
   "source": [
    "for x in names:\n",
    "    #plt.boxplot(data[x])\n",
    "    #plt.show() \n",
    "    \n",
    "    a = data[x].quantile(0.10)\n",
    "    b = data[x].quantile(0.90)\n",
    "    \n",
    "    #print(data.skew())\n",
    "    Q1=data[x].quantile(0.25)\n",
    "    Q3=data[x].quantile(0.75)\n",
    "    IQR=Q3-Q1\n",
    "    Min= Q1 - 1.5 * IQR\n",
    "    Max= Q3 + 1.5 * IQR\n",
    "    \n",
    "    data[x] = np.where(data[x] <Min, a,data[x])\n",
    "    data[x] = np.where(data[x] >Max, b,data[x])"
   ]
  },
  {
   "cell_type": "code",
   "execution_count": 48,
   "metadata": {},
   "outputs": [
    {
     "data": {
      "image/png": "[encoded data removed]",
      "text/plain": [
       "<IPython.core.display.Image object>"
      ]
     },
     "metadata": {},
     "output_type": "display_data"
    }
   ],
   "source": [
    "display(Image(filename='data after handling out layers.png'))"
   ]
  },
  {
   "cell_type": "code",
   "execution_count": 49,
   "metadata": {},
   "outputs": [
    {
     "data": {
      "image/png": "[encoded data removed]",
      "text/plain": [
       "<Figure size 1224x864 with 9 Axes>"
      ]
     },
     "metadata": {
      "needs_background": "light"
     },
     "output_type": "display_data"
    }
   ],
   "source": [
    "data.hist(figsize=(17,12),color='blue') \n",
    "plt.show()"
   ]
  },
  {
   "cell_type": "code",
   "execution_count": 50,
   "metadata": {},
   "outputs": [],
   "source": [
    "y = data['Outcome']\n",
    "X = data.iloc[:,:-1]"
   ]
  },
  {
   "cell_type": "code",
   "execution_count": 51,
   "metadata": {},
   "outputs": [
    {
     "name": "stdout",
     "output_type": "stream",
     "text": [
      "(652, 8)\n",
      "(116, 8)\n"
     ]
    }
   ],
   "source": [
    "X_train,X_test,y_train,y_test=train_test_split(X,y,random_state=0,test_size=0.15)\n",
    "\n",
    "print(X_train.shape)\n",
    "print(X_test.shape)"
   ]
  },
  {
   "cell_type": "code",
   "execution_count": 52,
   "metadata": {},
   "outputs": [
    {
     "data": {
      "text/plain": [
       "array([[-0.55310058, -0.43251507, -0.79719096, ..., -1.05437096,\n",
       "         1.71254112, -0.98790909],\n",
       "       [-0.85437174,  2.37822425, -1.81120854, ..., -0.96325967,\n",
       "         0.83164711, -0.81206505],\n",
       "       [-0.85437174, -0.3333125 ,  1.23084419, ..., -0.32548064,\n",
       "        -1.16400657, -0.89998707],\n",
       "       ...,\n",
       "       [ 0.04944174, -0.89546037, -0.54368657, ..., -1.14548225,\n",
       "        -1.14451777, -1.07583112],\n",
       "       [ 2.15833985, -1.19306806,  0.21682661, ..., -0.32548064,\n",
       "        -0.55205808,  0.15507719],\n",
       "       [ 0.3507129 ,  0.49337553,  0.89283833, ..., -1.31251961,\n",
       "         0.7731807 ,  1.56182953]])"
      ]
     },
     "execution_count": 52,
     "metadata": {},
     "output_type": "execute_result"
    }
   ],
   "source": [
    "# scaling\n",
    "\n",
    "scaler = StandardScaler()\n",
    "\n",
    "scaler_X_train=scaler.fit_transform(X_train)\n",
    "scaler_X_train"
   ]
  },
  {
   "cell_type": "code",
   "execution_count": 53,
   "metadata": {},
   "outputs": [
    {
     "data": {
      "text/plain": [
       "array([[-0.85437174,  2.57662938,  0.38582954,  1.43700027, -0.83589362,\n",
       "         1.61822687,  1.7031865 , -0.98790909],\n",
       "       [-0.55310058, -0.46558259,  0.21682661,  0.60825874,  0.36941111,\n",
       "         0.20600188, -0.14669092, -0.89998707],\n",
       "       [ 0.04944174, -1.49067575, -0.79719096, -1.30422172, -0.83589362,\n",
       "         0.26674274, -0.19736182, -0.72414303],\n",
       "       [ 0.3507129 ,  1.48540118,  0.04782368, -0.0929841 ,  1.27338966,\n",
       "        -0.97844488,  0.56659936,  1.56182953],\n",
       "       [-1.1556429 , -0.3333125 , -0.54368657, -1.30422172, -0.83589362,\n",
       "        -1.16066746,  0.85113592, -0.1966109 ],\n",
       "       [-0.85437174, -1.32533814,  0.04782368, -0.15673344, -0.35377173,\n",
       "        -0.85696316, -0.61832002, -0.81206505],\n",
       "       [ 1.55579753,  1.02245588,  0.55483247,  0.86325613,  1.22517747,\n",
       "         0.29711317,  1.75931426, -0.02076686],\n",
       "       [-0.25182942,  1.81607639,  1.23084419,  0.41701069,  1.04438176,\n",
       "         0.16044624,  2.7766299 ,  1.64975155],\n",
       "       [-0.55310058,  0.19576784, -1.13519682,  0.22576265,  2.4786944 ,\n",
       "        -0.6899258 ,  1.7031865 , -0.72414303],\n",
       "       [ 0.65198406, -0.59785267,  0.04782368,  0.73575744,  1.45418537,\n",
       "         0.82859569, -0.45851181,  1.91351761],\n",
       "       [-0.25182942,  1.22086101,  0.38582954,  0.99075483,  2.11710298,\n",
       "        -0.09770242,  1.59560829, -0.46037697],\n",
       "       [ 0.3507129 ,  2.17981913,  0.38582954,  0.41701069,  1.65908718,\n",
       "         1.72452337,  2.30889857,  1.73767357],\n",
       "       [ 0.3507129 , -0.23410994,  0.21682661, -1.30422172, -0.83589362,\n",
       "        -1.11511182,  1.17854785,  2.08936166],\n",
       "       [-0.55310058, -1.29227062, -1.64220561,  0.09826395,  0.55020682,\n",
       "        -0.56844408,  1.7031865 , -0.72414303],\n",
       "       [ 1.25452637, -1.85441849,  0.04782368,  0.1620133 , -0.83589362,\n",
       "        -0.03696156,  0.61727025,  0.77053134],\n",
       "       [-1.1556429 , -0.43251507, -0.29018218, -0.02923475, -0.83589362,\n",
       "        -0.75066666,  1.34615158, -0.10868888],\n",
       "       [ 1.25452637,  1.91527896,  0.04782368,  1.37325092,  0.73100253,\n",
       "         0.06933495,  1.08110382,  0.24299921],\n",
       "       [-0.85437174, -1.58987831, -1.81120854, -0.66672823, -0.83589362,\n",
       "        -1.4036309 , -0.75474166, -1.07583112],\n",
       "       [ 0.04944174,  0.36110545,  1.23084419,  0.67200809, -0.83589362,\n",
       "        -0.64437015, -0.08822451,  2.61689379],\n",
       "       [ 0.3507129 , -0.73012276, -1.47320268,  0.48076004,  0.16450931,\n",
       "         0.26674274,  0.22359638, -0.28453292],\n",
       "       [ 0.04944174,  0.75791571,  0.89283833,  0.73575744, -0.83589362,\n",
       "         0.95007741,  0.43797324,  0.33092123],\n",
       "       [-0.55310058, -0.10183985,  0.7238354 , -1.30422172, -0.83589362,\n",
       "         1.61822687,  0.97976204, -1.07583112],\n",
       "       [-0.55310058, -1.12693302, -1.47320268,  0.1620133 , -0.83589362,\n",
       "        -0.50770322,  1.29158292, -0.72414303],\n",
       "       [-0.25182942, -1.98668857,  0.89283833,  0.48076004, -0.83589362,\n",
       "         0.3274836 , -0.77423046,  1.12221942],\n",
       "       [-0.85437174, -0.7962578 , -0.45918511, -0.34798149,  0.85153301,\n",
       "        -1.37326047,  0.17682325, -0.98790909],\n",
       "       [-0.85437174,  0.09656528, -0.96619389,  0.73575744, -0.83589362,\n",
       "         0.54007661,  0.2820628 , -1.07583112],\n",
       "       [-1.1556429 , -0.56478515,  0.38582954, -1.30422172, -0.83589362,\n",
       "        -2.10215079,  0.54711055, -0.54829899],\n",
       "       [ 2.76088217,  1.0555234 ,  1.39984711,  1.05450418,  0.85153301,\n",
       "         1.26896692,  2.85458513,  0.50676527],\n",
       "       [-0.55310058, -0.30024498, -0.45918511,  0.09826395, -0.83589362,\n",
       "        -1.0999266 , -0.52477375, -0.81206505],\n",
       "       [ 0.3507129 , -0.36638002, -0.29018218, -1.30422172, -0.83589362,\n",
       "        -0.94807445, -0.58324017, -0.28453292],\n",
       "       [ 0.95325522,  0.49337553,  0.21682661,  0.35326134,  0.79126777,\n",
       "        -0.94807445,  0.80046502,  1.56182953],\n",
       "       [-1.1556429 , -0.63092019, -0.62818803,  1.62824832,  0.10424407,\n",
       "         1.26896692,  0.2119031 , -1.07583112],\n",
       "       [-1.1556429 , -0.63092019,  1.23084419, -0.22048279,  0.42967635,\n",
       "        -0.44696236,  0.98755756, -0.54829899],\n",
       "       [-0.55310058,  0.03043023, -1.64220561,  1.43700027,  1.06848786,\n",
       "         0.60081747,  1.45918665, -0.46037697],\n",
       "       [-0.85437174, -0.06877233, -1.47320268, -0.47548019, -0.23324126,\n",
       "        -1.5099274 , -0.92234538, -0.81206505],\n",
       "       [ 0.3507129 ,  1.55153622, -0.62818803, -1.30422172, -0.83589362,\n",
       "         0.09970538, -1.19518866,  0.68260931],\n",
       "       [ 2.15833985,  0.49337553,  1.06184126,  0.92700548,  0.73100253,\n",
       "        -0.59881451, -0.70796852,  0.77053134],\n",
       "       [-0.55310058, -0.13490737,  1.56885004, -0.0929841 ,  0.01987274,\n",
       "        -1.06955617, -0.50138718, -1.07583112],\n",
       "       [-0.85437174, -0.06877233, -2.31821733,  1.69199767, -0.07655164,\n",
       "         0.49452096, -0.6300133 , -0.72414303],\n",
       "       [-0.25182942,  1.94834648, -0.62818803,  0.289512  ,  0.00781969,\n",
       "         0.26674274, -0.66509315, -0.63622101],\n",
       "       [-1.1556429 , -0.06877233, -0.62818803, -0.15673344,  0.27298673,\n",
       "         0.40340967,  1.10449039, -0.89998707],\n",
       "       [-0.25182942, -1.02773045,  0.55483247, -1.30422172, -0.83589362,\n",
       "         1.58785644,  0.45746205, -1.07583112],\n",
       "       [ 0.65198406, -0.73012276, -0.96619389, -0.0929841 , -0.18502907,\n",
       "        -0.81140752,  0.21580086, -0.10868888],\n",
       "       [-0.25182942,  2.37822425, -0.12117925,  0.67200809, -0.83589362,\n",
       "         0.40340967, -0.78202598, -0.72414303],\n",
       "       [-0.55310058,  2.51049434, -0.12117925,  1.56449897,  1.69524632,\n",
       "        -0.26473978, -1.10554016,  1.73767357],\n",
       "       [-1.1556429 , -0.63092019,  0.30132808,  0.1620133 , -0.83589362,\n",
       "        -1.31251961,  0.50813294, -1.07583112],\n",
       "       [-0.55310058, -0.43251507, -0.79719096,  0.73575744, -0.16092297,\n",
       "        -1.06955617, -1.22247299, -1.07583112],\n",
       "       [-0.25182942,  0.26190288, -0.62818803,  0.54450939,  0.55020682,\n",
       "        -0.88733359, -0.86777673, -0.46037697],\n",
       "       [ 0.04944174, -0.39944754, -0.62818803,  1.50074962,  0.35735806,\n",
       "         0.38822446,  1.80608739, -0.63622101],\n",
       "       [ 0.04944174,  0.1296328 ,  0.7238354 , -1.30422172, -0.83589362,\n",
       "         0.00859409,  0.36781354, -0.54829899],\n",
       "       [ 1.85706869,  0.39417297, -0.29018218, -1.30422172, -0.83589362,\n",
       "        -0.7962223 , -0.76643494,  0.24299921],\n",
       "       [-0.55310058, -0.43251507, -1.64220561,  0.35326134, -0.07655164,\n",
       "         0.03896452, -0.48189838, -0.98790909],\n",
       "       [ 2.45961101,  0.98938836, -0.12117925,  1.24575223,  2.43048221,\n",
       "         1.4511895 ,  1.17075233,  0.41884325],\n",
       "       [ 0.95325522,  0.52644306,  1.56885004,  1.30950157, -0.83589362,\n",
       "        -0.03696156, -0.19736182,  0.50676527],\n",
       "       [-1.1556429 , -0.99466293, -0.29018218,  0.73575744,  1.69524632,\n",
       "         1.16267042, -0.23633943, -0.72414303],\n",
       "       [-0.85437174, -1.19306806, -1.98021147, -0.02923475, -0.83589362,\n",
       "        -1.14548225, -1.17569986, -0.98790909],\n",
       "       [-0.85437174, -1.19306806, -0.45918511,  0.54450939, -0.83589362,\n",
       "        -0.85696316, -0.35327226, -0.1966109 ],\n",
       "       [ 0.3507129 , -0.20104242,  2.24486176, -1.30422172, -0.83589362,\n",
       "         1.40563386, -0.90675434, -0.46037697],\n",
       "       [-0.55310058,  0.42724049, -0.12117925, -1.30422172, -0.83589362,\n",
       "        -0.50770322,  0.39120011, -0.89998707],\n",
       "       [ 1.85706869, -0.20104242, -1.47320268, -1.30422172, -0.83589362,\n",
       "        -1.31251961, -0.70407076, -0.28453292],\n",
       "       [ 1.25452637,  1.5184687 ,  2.92087348,  1.62824832,  1.94836031,\n",
       "         0.81341048, -1.07825583,  0.85845336],\n",
       "       [ 0.04944174,  0.85711827,  0.21682661,  0.289512  ,  2.69564925,\n",
       "         0.40340967, -0.22074838, -0.28453292],\n",
       "       [-1.1556429 ,  0.1296328 , -0.29018218, -1.30422172, -0.83589362,\n",
       "        -1.14548225, -0.91844762, -1.07583112],\n",
       "       [-1.1556429 ,  0.55951058, -1.47320268, -1.30422172, -0.83589362,\n",
       "         0.61600268,  1.9152247 , -0.72414303],\n",
       "       [-0.25182942,  2.01448152,  0.21682661, -1.30422172, -0.83589362,\n",
       "        -0.26473978, -0.37665883, -0.37245494],\n",
       "       [ 1.25452637,  2.51049434,  0.21682661, -1.30422172, -0.83589362,\n",
       "        -0.96325967,  2.92084707,  0.50676527],\n",
       "       [ 1.55579753,  1.45233366,  1.39984711, -1.30422172, -0.83589362,\n",
       "        -0.279925  , -0.54426256,  1.38598549],\n",
       "       [-0.25182942,  0.03043023,  0.55483247, -1.30422172, -0.83589362,\n",
       "        -1.4036309 , -0.73135509,  0.59468729],\n",
       "       [ 1.55579753, -0.49865011, -1.64220561, -1.30422172, -0.83589362,\n",
       "        -0.15844328, -0.24023719,  0.77053134],\n",
       "       [ 1.55579753, -1.62294584,  0.55483247,  0.289512  , -0.83589362,\n",
       "        -0.09770242, -0.6300133 ,  0.41884325],\n",
       "       [-0.55310058, -0.43251507, -0.62818803, -1.30422172, -0.83589362,\n",
       "        -0.21918414, -1.10554016, -1.07583112],\n",
       "       [ 0.95325522, -0.06877233, -1.47320268, -1.30422172, -0.83589362,\n",
       "        -1.06955617, -0.90675434,  0.33092123],\n",
       "       [-1.1556429 , -1.16000054, -0.29018218,  0.73575744, -0.83589362,\n",
       "         0.54007661, -0.79371927, -0.72414303],\n",
       "       [ 0.65198406,  2.04754904,  1.9068559 , -1.30422172, -0.83589362,\n",
       "         1.29933735,  1.7031865 ,  1.0342974 ],\n",
       "       [ 0.04944174,  1.65073878,  0.04782368, -1.30422172, -0.83589362,\n",
       "         1.72452337,  0.14564116, -0.63622101],\n",
       "       [ 0.04944174,  0.52644306,  1.06184126, -1.30422172, -0.83589362,\n",
       "        -0.15844328, -0.73915061, -0.28453292],\n",
       "       [ 1.85706869, -1.75521592,  2.92087348,  0.1620133 , -0.2452943 ,\n",
       "         0.49452096, -0.6105245 ,  1.21014144],\n",
       "       [ 0.65198406,  1.08859092,  0.21682661,  0.73575744,  1.49034451,\n",
       "        -0.44696236,  1.54883516,  0.50676527],\n",
       "       [ 0.04944174, -1.2592031 ,  1.23084419, -0.0929841 , -0.83589362,\n",
       "        -0.44696236, -0.48579614,  0.06715516],\n",
       "       [-0.85437174, -0.7962578 , -0.12117925,  1.24575223, -0.83589362,\n",
       "         0.88933655, -0.87167449, -0.28453292],\n",
       "       [ 1.25452637, -0.69705524,  0.38582954, -1.30422172, -0.83589362,\n",
       "         0.98044784, -0.9808118 ,  0.77053134],\n",
       "       [-0.85437174,  0.49337553,  0.21682661,  1.88324571,  1.62292804,\n",
       "         0.78304005, -0.16617973, -0.81206505],\n",
       "       [-0.55310058, -0.36638002,  0.21682661,  0.54450939,  0.6707373 ,\n",
       "         0.0237793 ,  0.99925084, -0.54829899],\n",
       "       [-0.85437174, -0.7962578 , -0.62818803, -0.0929841 ,  0.15245626,\n",
       "        -2.13252122, -0.55595584, -1.07583112],\n",
       "       [ 0.04944174, -0.86239284, -0.96619389,  0.73575744, -0.83589362,\n",
       "         0.47933575, -0.61442226, -0.46037697],\n",
       "       [ 0.04944174, -0.96159541,  0.7238354 , -1.30422172, -0.83589362,\n",
       "         1.51193036, -0.79761703, -0.37245494],\n",
       "       [-0.25182942,  0.5925781 , -1.47320268, -1.30422172, -0.83589362,\n",
       "        -1.00881531, -0.15448645, -0.98790909],\n",
       "       [-0.85437174, -0.59785267, -1.47320268,  1.11825353,  0.16450931,\n",
       "         1.67896773, -1.00809613, -0.02076686],\n",
       "       [ 0.95325522,  1.981414  ,  1.06184126,  0.0345146 ,  1.47829147,\n",
       "         0.55526182,  0.5627016 ,  1.56182953],\n",
       "       [-1.1556429 , -0.89546037, -0.12117925,  0.41701069,  0.55020682,\n",
       "         1.70933816, -0.36886331, -1.07583112],\n",
       "       [-0.85437174,  0.09656528,  0.21682661,  0.99075483, -0.83589362,\n",
       "        -0.67474058, -1.3316103 , -0.28453292],\n",
       "       [-0.55310058,  0.26190288,  1.06184126, -1.30422172, -0.83589362,\n",
       "        -0.64437015, -0.61442226, -0.54829899],\n",
       "       [-0.25182942, -0.26717746, -1.81120854, -0.66672823,  0.1886154 ,\n",
       "        -0.41659193,  0.71861204, -0.72414303],\n",
       "       [-0.85437174, -0.59785267,  0.7238354 , -0.60297889,  0.15245626,\n",
       "        -1.95029864,  0.19241429, -0.98790909],\n",
       "       [-0.85437174,  1.41926613,  0.89283833,  1.43700027, -0.02833945,\n",
       "         0.08452016, -0.39224987,  1.47390751],\n",
       "       [-0.25182942, -0.3333125 , -1.13519682,  0.67200809, -0.30555954,\n",
       "        -0.41659193, -0.04534914, -0.98790909],\n",
       "       [ 0.95325522, -0.7962578 ,  0.38582954,  0.73575744,  0.26093369,\n",
       "         1.31452257,  1.67356351, -0.10868888],\n",
       "       [-1.1556429 ,  1.02245588,  0.89283833,  1.18200288,  2.44253525,\n",
       "         1.40563386, -0.66899091, -0.54829899],\n",
       "       [ 0.04944174, -0.3333125 ,  0.04782368,  1.69199767,  1.65908718,\n",
       "         0.7374844 ,  1.7031865 ,  2.00143964],\n",
       "       [ 0.04944174, -0.20104242,  0.04782368, -1.30422172, -0.83589362,\n",
       "        -0.50770322, -0.25582823,  1.12221942],\n",
       "       [-1.1556429 , -0.23410994,  0.7238354 ,  0.86325613,  2.59922487,\n",
       "         1.81563466, -1.07046031, -0.54829899],\n",
       "       [-0.55310058, -0.73012276, -1.64220561, -0.34798149,  0.29709283,\n",
       "        -1.16066746,  0.76148741, -1.07583112],\n",
       "       [ 0.04944174, -0.36638002,  1.73785297, -1.30422172, -0.83589362,\n",
       "         0.81341048, -0.97691404, -0.28453292],\n",
       "       [-0.85437174, -0.86239284, -0.45918511, -0.47548019, -0.37787782,\n",
       "        -1.91992821, -0.4195342 , -0.72414303],\n",
       "       [-0.55310058,  0.22883536, -0.62818803,  1.37325092, -0.83589362,\n",
       "         1.17785563,  2.57004857, -0.81206505],\n",
       "       [ 1.25452637, -0.43251507, -0.12117925, -1.30422172, -0.83589362,\n",
       "        -0.26473978,  2.00097544, -0.02076686],\n",
       "       [-1.1556429 ,  0.16270032,  1.23084419,  0.41701069,  0.61047206,\n",
       "        -0.73548144,  0.28596056, -1.07583112],\n",
       "       [-1.1556429 ,  0.52644306, -0.12117925,  1.11825353, -0.83589362,\n",
       "         0.14526102, -1.05876702, -0.98790909],\n",
       "       [-0.25182942, -0.73012276,  0.7238354 , -0.60297889, -0.06449859,\n",
       "        -1.96548385, -0.61442226, -0.28453292],\n",
       "       [ 1.25452637,  2.04754904, -0.62818803, -1.30422172, -0.83589362,\n",
       "        -1.35807525,  0.89790905, -0.10868888],\n",
       "       [-0.55310058, -1.09386549, -1.13519682,  0.35326134, -0.64304486,\n",
       "        -0.58362929,  1.2642986 , -0.98790909],\n",
       "       [ 1.55579753, -0.30024498,  0.89283833,  0.73575744,  1.27338966,\n",
       "         0.29711317, -0.70796852,  0.24299921],\n",
       "       [ 1.25452637,  0.72484818, -0.45918511, -1.30422172, -0.83589362,\n",
       "         0.40340967, -1.21857523,  0.68260931],\n",
       "       [-0.85437174,  0.22883536,  2.24486176,  1.30950157, -0.13681688,\n",
       "        -0.03696156,  1.7031865 , -0.02076686],\n",
       "       [-0.25182942,  1.71687383,  1.06184126,  0.79950679,  1.69524632,\n",
       "         0.52489139, -0.71576405, -0.98790909],\n",
       "       [ 0.95325522,  1.32006357,  1.23084419, -1.30422172, -0.83589362,\n",
       "        -0.279925  , -1.07825583,  1.21014144]])"
      ]
     },
     "execution_count": 53,
     "metadata": {},
     "output_type": "execute_result"
    }
   ],
   "source": [
    "scaler_X_test=scaler.transform(X_test)\n",
    "scaler_X_test"
   ]
  },
  {
   "cell_type": "code",
   "execution_count": 54,
   "metadata": {},
   "outputs": [],
   "source": [
    "# traing --- SVM modle \n",
    "\n",
    "svc_clf = SVC(C=.1, kernel='sigmoid', degree=3 , gamma='auto')\n",
    "\n",
    "svc_clf.fit(scaler_X_train,y_train)\n",
    "\n",
    "svc_clf_predictions = svc_clf.predict(scaler_X_test)"
   ]
  },
  {
   "cell_type": "code",
   "execution_count": 55,
   "metadata": {},
   "outputs": [],
   "source": [
    "c=confusion_matrix(y_test,svc_clf_predictions)\n",
    "a=accuracy_score(y_test,svc_clf_predictions)\n",
    "p=precision_score(y_test,svc_clf_predictions)\n",
    "r=recall_score(y_test,svc_clf_predictions) "
   ]
  },
  {
   "cell_type": "code",
   "execution_count": 56,
   "metadata": {},
   "outputs": [
    {
     "name": "stdout",
     "output_type": "stream",
     "text": [
      "Confusion Matrix:\n",
      " [[70  8]\n",
      " [14 24]]\n",
      "Accuracy: 81.03448275862068\n",
      "Precision: 75.0\n",
      "Recall: 63.1578947368421\n"
     ]
    }
   ],
   "source": [
    "print('Confusion Matrix:\\n',c)\n",
    "print('Accuracy:',a*100)\n",
    "print('Precision:',p*100)\n",
    "print('Recall:',r*100)"
   ]
  },
  {
   "cell_type": "code",
   "execution_count": null,
   "metadata": {},
   "outputs": [],
   "source": []
  }
 ],
 "metadata": {
  "interpreter": {
   "hash": "52028429ff9c0ad4b5dd45228cfefa013efce9a308a3fa699793b733baa380de"
  },
  "kernelspec": {
   "display_name": "Python 3.7.7 64-bit",
   "language": "python",
   "name": "python3"
  },
  "language_info": {
   "codemirror_mode": {
    "name": "ipython",
    "version": 3
   },
   "file_extension": ".py",
   "mimetype": "text/x-python",
   "name": "python",
   "nbconvert_exporter": "python",
   "pygments_lexer": "ipython3",
   "version": "3.7.6"
  },
  "orig_nbformat": 4
 },
 "nbformat": 4,
 "nbformat_minor": 2
}
