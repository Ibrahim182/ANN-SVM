{
 "cells": [
  {
   "cell_type": "code",
   "execution_count": 1,
   "metadata": {},
   "outputs": [],
   "source": [
    "import cv2 as cv\n",
    "import numpy as np\n",
    "import os\n",
    "import matplotlib.pyplot as plt\n",
    "from PIL import Image\n",
    "import glob as gb\n",
    "from sklearn import svm\n",
    "from sklearn import metrics\n",
    "from sklearn.metrics import confusion_matrix,plot_confusion_matrix"
   ]
  },
  {
   "cell_type": "markdown",
   "metadata": {},
   "source": [
    "### training information"
   ]
  },
  {
   "cell_type": "code",
   "execution_count": 2,
   "metadata": {},
   "outputs": [
    {
     "name": "stdout",
     "output_type": "stream",
     "text": [
      "buildings\n",
      "forest\n",
      "mountain\n",
      "sea\n"
     ]
    }
   ],
   "source": [
    "labels = [\"buildings\", \"forest\", \"mountain\", \"sea\"]\n",
    "training_images = []\n",
    "training_labels = []\n",
    "idx = 0\n",
    "class_label = 0\n",
    "train = \"training/\"\n",
    "for folder in  os.listdir(train) :\n",
    "    print(folder)\n",
    "    files = gb.glob(pathname= str( train + folder + '/*.jpg'))\n",
    "    for image in files:\n",
    "        im = Image.open(image)\n",
    "        data = np.array(im)\n",
    "        data = data[:,:,0]\n",
    "        image_array = cv.resize(data , (32,32))\n",
    "        training_images.append(list(image_array))\n",
    "        training_labels.append(class_label)\n",
    "        idx = idx + 1\n",
    "    class_label = class_label + 1"
   ]
  },
  {
   "cell_type": "code",
   "execution_count": 3,
   "metadata": {},
   "outputs": [
    {
     "name": "stdout",
     "output_type": "stream",
     "text": [
      "(10669, 32, 32)\n",
      "(10669,)\n"
     ]
    }
   ],
   "source": [
    "training_images = np.array(training_images)\n",
    "training_labels = np.array(training_labels)\n",
    "print(training_images.shape)\n",
    "print(training_labels.shape)"
   ]
  },
  {
   "cell_type": "code",
   "execution_count": 4,
   "metadata": {},
   "outputs": [
    {
     "data": {
      "text/plain": [
       "(10669, 1024)"
      ]
     },
     "execution_count": 4,
     "metadata": {},
     "output_type": "execute_result"
    }
   ],
   "source": [
    "training_images = training_images.reshape(len(training_images), -1)\n",
    "training_images.shape"
   ]
  },
  {
   "cell_type": "markdown",
   "metadata": {},
   "source": [
    "### testing information"
   ]
  },
  {
   "cell_type": "code",
   "execution_count": 5,
   "metadata": {},
   "outputs": [
    {
     "name": "stdout",
     "output_type": "stream",
     "text": [
      "buildings\n",
      "forest\n",
      "mountain\n",
      "sea\n"
     ]
    }
   ],
   "source": [
    "labels = [\"buildings\", \"forest\", \"mountain\", \"sea\"]\n",
    "testing_images = []\n",
    "testing_labels = []\n",
    "idx = 0\n",
    "class_label = 0\n",
    "test = \"testing/\"\n",
    "for folder in  os.listdir(test):\n",
    "    print(folder)\n",
    "    files = gb.glob(pathname= str( test + folder + '/*.jpg'))\n",
    "    for image in files:\n",
    "        im = Image.open(image)\n",
    "        data = np.array(im)\n",
    "        data = data[:,:,0]\n",
    "        image_array = cv.resize(data , (32,32))\n",
    "        testing_images.append(list(image_array))\n",
    "        testing_labels.append(class_label)\n",
    "        idx = idx + 1\n",
    "    class_label = class_label + 1"
   ]
  },
  {
   "cell_type": "code",
   "execution_count": 6,
   "metadata": {},
   "outputs": [
    {
     "name": "stdout",
     "output_type": "stream",
     "text": [
      "(960, 32, 32)\n",
      "(960,)\n"
     ]
    }
   ],
   "source": [
    "testing_images = np.array(testing_images)\n",
    "testing_labels = np.array(testing_labels)\n",
    "print(testing_images.shape)\n",
    "print(testing_labels.shape)"
   ]
  },
  {
   "cell_type": "code",
   "execution_count": 7,
   "metadata": {},
   "outputs": [
    {
     "data": {
      "text/plain": [
       "(960, 1024)"
      ]
     },
     "execution_count": 7,
     "metadata": {},
     "output_type": "execute_result"
    }
   ],
   "source": [
    "testing_images = testing_images.reshape(len(testing_images), -1)\n",
    "testing_images.shape"
   ]
  },
  {
   "cell_type": "code",
   "execution_count": 8,
   "metadata": {},
   "outputs": [],
   "source": [
    "model = svm.SVC(kernel='rbf',max_iter=10000)\n",
    "result = model.fit(training_images, training_labels)"
   ]
  },
  {
   "cell_type": "code",
   "execution_count": 9,
   "metadata": {},
   "outputs": [
    {
     "name": "stdout",
     "output_type": "stream",
     "text": [
      "Accuracy =  0.75\n"
     ]
    }
   ],
   "source": [
    "prediction = model.predict(testing_images)\n",
    "print (\"Accuracy = \", metrics.accuracy_score(testing_labels, prediction))"
   ]
  },
  {
   "cell_type": "markdown",
   "metadata": {},
   "source": [
    "### confusion curve"
   ]
  },
  {
   "cell_type": "code",
   "execution_count": 10,
   "metadata": {},
   "outputs": [
    {
     "data": {
      "text/plain": [
       "[<matplotlib.lines.Line2D at 0x2100407a1c8>,\n",
       " <matplotlib.lines.Line2D at 0x210019e18c8>,\n",
       " <matplotlib.lines.Line2D at 0x210019e1a88>,\n",
       " <matplotlib.lines.Line2D at 0x210019e1c48>]"
      ]
     },
     "execution_count": 10,
     "metadata": {},
     "output_type": "execute_result"
    },
    {
     "data": {
      "image/png": "[encoded data removed]",
      "text/plain": [
       "<Figure size 432x288 with 1 Axes>"
      ]
     },
     "metadata": {
      "needs_background": "light"
     },
     "output_type": "display_data"
    }
   ],
   "source": [
    "from sklearn.metrics import confusion_matrix\n",
    "plt.plot(confusion_matrix(testing_labels,prediction))"
   ]
  },
  {
   "cell_type": "code",
   "execution_count": null,
   "metadata": {},
   "outputs": [],
   "source": []
  }
 ],
 "metadata": {
  "interpreter": {
   "hash": "81e1a4065f0c0b20a6def9e6819d43d472afaadd723a36dedbc2eb50bcb24664"
  },
  "kernelspec": {
   "display_name": "Python 3.7.6 64-bit ('base': conda)",
   "language": "python",
   "name": "python3"
  },
  "language_info": {
   "codemirror_mode": {
    "name": "ipython",
    "version": 3
   },
   "file_extension": ".py",
   "mimetype": "text/x-python",
   "name": "python",
   "nbconvert_exporter": "python",
   "pygments_lexer": "ipython3",
   "version": "3.7.6"
  },
  "orig_nbformat": 4
 },
 "nbformat": 4,
 "nbformat_minor": 2
}
